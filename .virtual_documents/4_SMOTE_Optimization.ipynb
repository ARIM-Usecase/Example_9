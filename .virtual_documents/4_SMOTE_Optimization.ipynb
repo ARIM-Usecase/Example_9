








!pip install pip install imbalanced-learn
!git clone https://github.com/ARIM_ProcessInformatics/Example_1.git
%cd Example_1


# 汎用ライブラリ
import numpy as np
import matplotlib.pyplot as plt
from plotly.io import show

# 機械学習モデル
from keras.models import load_model
from keras.optimizers import Adam

# TPE最適化（Optuna）
import optuna
from optuna.samplers import TPESampler

import warnings
warnings.filterwarnings('ignore')





# モデルの読み込み（必要に応じてモデルを適切に読み込んでください）
model = load_model('./output/my_model.keras',compile=False)


model.compile(loss='mse', optimizer=Adam(learning_rate=0.0001))








# メッシュグリッド作成と予測
def generate_data_points(T_range, P_range, F_range, R_range, num_points):
    T_values = np.linspace(T_range[0], T_range[1], num_points[0])
    P_values = np.linspace(P_range[0], P_range[1], num_points[1])
    F_values = np.linspace(F_range[0], F_range[1], num_points[2])
    R_values = np.linspace(R_range[0], R_range[1], num_points[3])

    T_mesh, P_mesh, F_mesh, R_mesh = np.meshgrid(T_values, P_values, F_values, R_values, indexing='ij')
    
    return T_mesh, P_mesh, F_mesh, R_mesh


T_mesh, P_mesh, F_mesh, R_mesh = generate_data_points([280, 400], 
                                                      [0, 80], 
                                                      [50, 250], 
                                                      [0.5, 5], 
                                                      [120, 80, 20, 10]
                                                     )

data_points = np.column_stack((T_mesh.ravel(), 
                               P_mesh.ravel(), 
                               R_mesh.ravel(), 
                               F_mesh.ravel())
                             )





ammonia_conc = model.predict(data_points)
max_index = np.argmax(ammonia_conc)

print(f"Maximum ammonia concentration: {ammonia_conc[max_index]}")
print(f"Input feature for maximum concentration: {data_points[max_index]}")


# 可視化
fig = plt.figure(figsize=(10, 8))
ax = fig.add_subplot(111, projection='3d')

scatter = ax.scatter(T_mesh, 
                     P_mesh, 
                     ammonia_conc.reshape(T_mesh.shape), 
                     c=ammonia_conc.reshape(T_mesh.shape), 
                     cmap='viridis')

ax.set_xlabel('Temperature (T)')
ax.set_ylabel('Pressure (P)')
ax.set_zlabel('Ammonia Concentration')
ax.set_title('Ammonia Concentration Prediction')
plt.colorbar(scatter, label='Ammonia Concentration')

plt.show()





# Optunaでの最適化の目的関数
def objective(trial):
    temperature = trial.suggest_float('T', 280, 400)
    pressure = trial.suggest_float('P', 0, 80)
    ratio = trial.suggest_float('R', 0.5, 5)
    flow = trial.suggest_float('F', 50, 250)


    # データポイントを生成
    data_points = np.array([[temperature, pressure, ratio, flow]])
    
    # 予測
    ammonia_conc = model.predict(data_points)
    return ammonia_conc[0][0]


# Optunaのスタディを作成
study = optuna.create_study(direction='maximize',
                            sampler=TPESampler()
                           )

study.optimize(objective, n_trials=100)





best_params = study.best_params
best_ammonia_conc = study.best_value

print(f"Best parameters: {best_params}")
print(f"Maximum ammonia concentration: {best_ammonia_conc}")





# 結果のプロット (オプション)
fig = optuna.visualization.plot_optimization_history(study)

fig.update_layout(width=800, height=600, 
                  showlegend=False)  # 凡例を非表示に設定

fig.update_yaxes(range=[0, 2])  # y軸の範囲を0～2に設定

fig.show()


# 結果のプロット (スライスプロット)
fig = optuna.visualization.plot_slice(study)

fig.update_layout(width=800, height=600, 
                  showlegend=False
                  )  # 凡例を非表示に設定

fig.update_yaxes(range=[0, 2])  # y軸の範囲を0～2に設定
show(fig)


fig = optuna.visualization.plot_param_importances(study)

fig.update_layout(width=800, height=600, 
                  showlegend=False
                  )  # 凡例を非表示に設定


show(fig)


# Optunaのカウントールプロットを作成
fig = optuna.visualization.plot_contour(study, params=["P", "T"])

fig.update_layout(width=800, height=600, 
                  showlegend=False
                  )  # 凡例を非表示に設定


# z軸の範囲を設定（traceの最初の要素を選択）
fig.data[0].zmin = 0  # 最小値を0に設定
fig.data[0].zmax = 2  # 最大値を2に設定

fig.show()
